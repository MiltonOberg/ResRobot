{
 "cells": [
  {
   "cell_type": "code",
   "execution_count": 20,
   "metadata": {},
   "outputs": [],
   "source": [
    "from trips import TripPlanner\n",
    "from connect_to_api import ResRobot\n",
    "import pandas as pd\n",
    "import requests\n",
    "import folium\n",
    "\n",
    "resrobot = ResRobot()\n",
    "origin_id = input(\"Enter your location: \")\n",
    "destination_id = input(\"Enter your destination: \")    "
   ]
  },
  {
   "cell_type": "code",
   "execution_count": 21,
   "metadata": {},
   "outputs": [],
   "source": [
    "class DepaturePlanner(TripPlanner):\n",
    "    \n",
    "    def __init__(self, origin_id, destination_id):\n",
    "        super().__init__(origin_id, destination_id)\n",
    "        self.origin_id = origin_id\n",
    "        self.destination_id = destination_id\n",
    "        self.trips = resrobot.trips(self.origin_id, self.destination)\n",
    "                            \n",
    "    def next_available_trip(self) -> pd.DataFrame:\n",
    "        next_trip = self.trips[0]\n",
    "        return next_trip\n",
    "       \n",
    "    def timetable_departure(self, location_id):\n",
    "        \n",
    "        url = f\"https://api.resrobot.se/v2.1/departureBoard?id={location_id}&format=json&accessId={self.API_KEY}\"\n",
    "        location_id = origin_id\n",
    "        response = requests.get(url)\n",
    "        result = response.json()\n",
    "        return result\n",
    "\n",
    "\n",
    "    def timetable_arrival(self, location_id):\n",
    "        url = f\"https://api.resrobot.se/v2.1/arrivalBoard?id={location_id}&format=json&accessId={self.API_KEY}\"\n",
    "        location_id = destination_id\n",
    "        response = requests.get(url)\n",
    "        result = response.json()\n",
    "        return result\n",
    "    \n"
   ]
  }
 ],
 "metadata": {
  "kernelspec": {
   "display_name": ".venv",
   "language": "python",
   "name": "python3"
  },
  "language_info": {
   "codemirror_mode": {
    "name": "ipython",
    "version": 3
   },
   "file_extension": ".py",
   "mimetype": "text/x-python",
   "name": "python",
   "nbconvert_exporter": "python",
   "pygments_lexer": "ipython3",
   "version": "3.11.9"
  }
 },
 "nbformat": 4,
 "nbformat_minor": 2
}
