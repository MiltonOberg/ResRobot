{
 "cells": [
  {
   "cell_type": "code",
   "execution_count": 5,
   "metadata": {},
   "outputs": [],
   "source": [
    "from backend.trips import TripPlanner\n",
    "from backend.connect_to_api import ResRobot\n",
    "import pandas as pd\n",
    "import requests\n",
    "import folium\n",
    "\n",
    "resrobot = ResRobot()\n",
    "origin_id = input(\"Enter your location: \")\n",
    "destination_id = input(\"Enter your destination: \")    "
   ]
  },
  {
   "cell_type": "code",
   "execution_count": 6,
   "metadata": {},
   "outputs": [
    {
     "name": "stdout",
     "output_type": "stream",
     "text": [
      "stockholm\n"
     ]
    }
   ],
   "source": [
    "class DepaturePlanner(TripPlanner):\n",
    "    \n",
    "    def __init__(self, origin_id, destination_id):\n",
    "        super().__init__(origin_id, destination_id)\n",
    "        self.origin_id = origin_id\n",
    "        self.destination_id = destination_id\n",
    "        self.access_id_from_location(self.origin_id)\n",
    "        self.access_id_from_location(self.destination_id)\n",
    "        self.trips = resrobot.trips(self.origin_id, self.destination)\n",
    "        \n",
    "    def access_id_from_location(self, location):\n",
    "        url = f\"https://api.resrobot.se/v2.1/location.name?input={location}&format=json&accessId={self.API_KEY}\"\n",
    "        response = requests.get(url)\n",
    "        result = response.json()\n",
    "                            \n",
    "       \n",
    "    def timetable_departure(self, location_id):\n",
    "        url = f\"https://api.resrobot.se/v2.1/departureBoard?id={location_id}&format=json&accessId={self.API_KEY}\"\n",
    "        location_id = origin_id\n",
    "        response = requests.get(url)\n",
    "        result = response.json()\n",
    "        return result\n",
    "\n",
    "\n",
    "    def timetable_arrival(self, location_id):\n",
    "        url = f\"https://api.resrobot.se/v2.1/arrivalBoard?id={location_id}&format=json&accessId={self.API_KEY}\"\n",
    "        location_id = destination_id\n",
    "        response = requests.get(url)\n",
    "        result = response.json()\n",
    "        return result\n",
    "    \n",
    "    \n",
    "print(destination_id)"
   ]
  },
  {
   "cell_type": "code",
   "execution_count": null,
   "metadata": {},
   "outputs": [],
   "source": []
  }
 ],
 "metadata": {
  "kernelspec": {
   "display_name": ".venv",
   "language": "python",
   "name": "python3"
  },
  "language_info": {
   "codemirror_mode": {
    "name": "ipython",
    "version": 3
   },
   "file_extension": ".py",
   "mimetype": "text/x-python",
   "name": "python",
   "nbconvert_exporter": "python",
   "pygments_lexer": "ipython3",
   "version": "3.11.9"
  }
 },
 "nbformat": 4,
 "nbformat_minor": 2
}
