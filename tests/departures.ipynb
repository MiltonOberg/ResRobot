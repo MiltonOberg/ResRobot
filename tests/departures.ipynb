{
 "cells": [
  {
   "cell_type": "code",
   "execution_count": 10,
   "metadata": {},
   "outputs": [],
   "source": [
    "from backend.trips import TripPlanner\n",
    "from backend.connect_to_api import ResRobot\n",
    "import pandas as pd\n",
    "import requests\n",
    "import folium\n",
    "\n",
    "resrobot = ResRobot()\n",
    "origin_id = input(\"Enter your location: \")\n",
    "destination_id = input(\"Enter your destination: \")    "
   ]
  },
  {
   "cell_type": "code",
   "execution_count": 11,
   "metadata": {},
   "outputs": [
    {
     "ename": "IndentationError",
     "evalue": "unexpected indent (774511691.py, line 71)",
     "output_type": "error",
     "traceback": [
      "\u001b[1;36m  Cell \u001b[1;32mIn[11], line 71\u001b[1;36m\u001b[0m\n\u001b[1;33m    def __init__(self, origin_id, destination_id):\u001b[0m\n\u001b[1;37m    ^\u001b[0m\n\u001b[1;31mIndentationError\u001b[0m\u001b[1;31m:\u001b[0m unexpected indent\n"
     ]
    }
   ],
   "source": [
    "from datetime import datetime\n",
    "\n",
    "class DepaturePlanner(TripPlanner):\n",
    "\n",
    "planner = DepaturePlanner(origin_id, destination_id)\n",
    "print(planner.next_available_trips_today()) # Returns a list of DataFrame objects DepaturePlanner(TripPlanner):\n",
    "    \n",
    "    def __init__(self, origin_id, destination_id):\n",
    "        super().__init__(origin_id, destination_id)\n",
    "        self.origin_id = origin_id\n",
    "        self.destination_id = destination_id\n",
    "        self.access_id_from_location(self.origin_id)\n",
    "        self.access_id_from_location(self.destination_id)\n",
    "        self.trips = resrobot.trips(self.origin_id, self.destination_id)\n",
    "        \n",
    "    def access_id_from_location(self, location):\n",
    "        url = f\"https://api.resrobot.se/v2.1/location.name?input={location}&format=json&accessId={self.API_KEY}\"\n",
    "        response = requests.get(url)\n",
    "        result = response.json()\n",
    "                            \n",
    "        if result.get(\"StopLocation\", None):\n",
    "            return result[\"StopLocation\"][0][\"id\"]\n",
    "        else:\n",
    "            return None\n",
    "        \n",
    "    def timetable_departure(self, location_id):\n",
    "        url = f\"https://api.resrobot.se/v2.1/departureBoard?id={location_id}&format=json&accessId={self.API_KEY}\"\n",
    "        response = requests.get(url)\n",
    "        result = response.json()\n",
    "        return result\n",
    "\n",
    "    def next_available_trips_today(self) -> list[pd.DataFrame]:\n",
    "        \"\"\"Fetches all available trips today between the origin_id and destination_id\n",
    "        It returns a list of DataFrame objects, where each item corresponds to a trip\n",
    "        \"\"\"\n",
    "        today = datetime.now().date()\n",
    "        trips_today = []\n",
    "\n",
    "        trips = resrobot.trips(self.origin_id, self.destination_id)\n",
    "        if trips is None:\n",
    "            return trips_today\n",
    "\n",
    "        for trip in trips:\n",
    "            if isinstance(trip, dict):\n",
    "                leglist = trip.get(\"LegList\", {}).get(\"Leg\", [])\n",
    "                df_legs = pd.DataFrame(leglist)\n",
    "                df_stops = pd.json_normalize(df_legs[\"Stops\"].dropna(), \"Stop\", errors=\"ignore\")\n",
    "                df_stops[\"time\"] = df_stops[\"arrTime\"].fillna(df_stops[\"depTime\"])\n",
    "                df_stops[\"date\"] = df_stops[\"arrDate\"].fillna(df_stops[\"depDate\"])\n",
    "\n",
    "                if df_stops[\"date\"].iloc[0] == today.strftime(\"%Y-%m-%d\"):\n",
    "                    trips_today.append(\n",
    "                        df_stops[\n",
    "                            [\n",
    "                                \"name\",\n",
    "                                \"extId\",\n",
    "                                \"lon\",\n",
    "                                \"lat\",\n",
    "                                \"depTime\",\n",
    "                                \"depDate\",\n",
    "                                \"arrTime\",\n",
    "                                \"arrDate\",\n",
    "                                \"time\",\n",
    "                                \"date\",\n",
    "                            ]\n",
    "                        ]\n",
    "                    )\n",
    "\n",
    "        return trips_today\n",
    "\n",
    "planner = DepaturePlanner(origin_id, destination_id)\n",
    "print(planner.next_available_trips_today()) # Returns a list of DataFrame objects"
   ]
  },
  {
   "cell_type": "code",
   "execution_count": 5,
   "metadata": {},
   "outputs": [
    {
     "name": "stdout",
     "output_type": "stream",
     "text": [
      "malmö\n"
     ]
    }
   ],
   "source": [
    "class DepaturePlanner(TripPlanner):\n",
    "    \n",
    "    def __init__(self, origin_id, destination_id):\n",
    "        super().__init__(origin_id, destination_id)\n",
    "        self.origin_id = origin_id\n",
    "        self.destination_id = destination_id\n",
    "        self.access_id_from_location(self.origin_id)\n",
    "        self.access_id_from_location(self.destination_id)\n",
    "        self.trips = resrobot.trips(self.origin_id, self.destination)\n",
    "        \n",
    "    def access_id_from_location(self, location):\n",
    "        url = f\"https://api.resrobot.se/v2.1/location.name?input={location}&format=json&accessId={self.API_KEY}\"\n",
    "        response = requests.get(url)\n",
    "        result = response.json()\n",
    "                            \n",
    "       \n",
    "    def timetable_departure(self, location_id):\n",
    "        url = f\"https://api.resrobot.se/v2.1/departureBoard?id={location_id}&format=json&accessId={self.API_KEY}\"\n",
    "        location_id = origin_id\n",
    "        response = requests.get(url)\n",
    "        result = response.json()\n",
    "        return result\n",
    "\n",
    "\n",
    "    def timetable_arrival(self, location_id):\n",
    "        url = f\"https://api.resrobot.se/v2.1/arrivalBoard?id={location_id}&format=json&accessId={self.API_KEY}\"\n",
    "        location_id = destination_id\n",
    "        response = requests.get(url)\n",
    "        result = response.json()\n",
    "        return result\n",
    "    \n",
    "    \n",
    "print(destination_id)"
   ]
  },
  {
   "cell_type": "code",
   "execution_count": null,
   "metadata": {},
   "outputs": [],
   "source": []
  }
 ],
 "metadata": {
  "kernelspec": {
   "display_name": ".venv",
   "language": "python",
   "name": "python3"
  },
  "language_info": {
   "codemirror_mode": {
    "name": "ipython",
    "version": 3
   },
   "file_extension": ".py",
   "mimetype": "text/x-python",
   "name": "python",
   "nbconvert_exporter": "python",
   "pygments_lexer": "ipython3",
   "version": "3.11.9"
  }
 },
 "nbformat": 4,
 "nbformat_minor": 2
}
