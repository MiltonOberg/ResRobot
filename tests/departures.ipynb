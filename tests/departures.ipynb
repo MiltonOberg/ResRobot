{
 "cells": [
  {
   "cell_type": "code",
   "execution_count": 2,
   "metadata": {},
   "outputs": [
    {
     "name": "stderr",
     "output_type": "stream",
     "text": [
      "2025-01-27 16:07:09.830 WARNING streamlit.runtime.scriptrunner_utils.script_run_context: Thread 'MainThread': missing ScriptRunContext! This warning can be ignored when running in bare mode.\n"
     ]
    }
   ],
   "source": [
    "from frontend.plot_maps import TripMap\n",
    "from utils.constants import StationIds\n",
    "import folium\n",
    "from streamlit_folium import st_folium\n",
    "\n",
    "def home():\n",
    "    st.markdown(\"# Startsida\")\n",
    "def reseplanerare():\n",
    "    st.markdown(\"# 🗺️ Reseplanerare\")\n",
    "    st.markdown(\n",
    "        \"\"\"\n",
    "        Den här dashboarden syftar till att både utforska data för olika platser, \n",
    "        men ska även fungera som en reseplanerare där du får välja och planera din resa.\n",
    "        \"\"\"\n",
    "    )\n",
    "\n",
    "    # Skapa en Folium-karta\n",
    "    m = folium.Map(location=[63.8258, 20.2630], zoom_start=6)  # Umeå koordinater\n",
    "    folium.Marker([55.6050, 13.0038], tooltip=\"Malmö\").add_to(m)  # Malmö koordinater\n",
    "\n",
    "    # Visa kartan i Streamlit\n",
    "    st_folium(m, width=700, height=500)\n",
    "\n",
    "    # Eventuell framtida logik för origin_id och destination_id\n",
    "    origin_id = \"740000003\"  \n",
    "    destination_id = \"740000190\" \n",
    "    st.markdown(f\"### Ursprung: {origin_id}\")\n",
    "    st.markdown(f\"### Destination: {destination_id}\")\n",
    "    "
   ]
  },
  {
   "cell_type": "code",
   "execution_count": 44,
   "metadata": {},
   "outputs": [],
   "source": [
    "from backend.trips import TripPlanner\n",
    "from backend.connect_to_api import ResRobot\n",
    "import pandas as pd\n",
    "import requests\n",
    "import folium\n",
    "\n",
    "resrobot = ResRobot()\n",
    "origin_id = input(\"Enter your location: \")\n",
    "dest_id = input(\"Enter your destination: \")    "
   ]
  },
  {
   "cell_type": "code",
   "execution_count": 45,
   "metadata": {},
   "outputs": [
    {
     "name": "stdout",
     "output_type": "stream",
     "text": [
      "Request to Resrobot failed for location 'Stockholm': 401 Client Error: Unauthorized for url: https://api.resrobot.se/v2.1/location.name?input=Stockholm&format=json&accessId=a91ab4c63147441e82540a8a02c3cb52\n",
      "Request to Resrobot failed for location 'Göteborg': 401 Client Error: Unauthorized for url: https://api.resrobot.se/v2.1/location.name?input=G%C3%B6teborg&format=json&accessId=a91ab4c63147441e82540a8a02c3cb52\n",
      "An error occurred: Invalid stop IDs: None, None\n"
     ]
    }
   ],
   "source": [
    "import os\n",
    "import requests\n",
    "import pandas as pd\n",
    "from dotenv import load_dotenv\n",
    "from datetime import datetime\n",
    "\n",
    "# Load API key from .env file\n",
    "load_dotenv()\n",
    "API_KEY = os.getenv(\"API_KEY\")\n",
    "\n",
    "\n",
    "class DeparturePlanner:\n",
    "    \"\"\"\n",
    "    A planner that retrieves departure information between two locations\n",
    "    using the Resrobot API.\n",
    "    \"\"\"\n",
    "\n",
    "    def __init__(self, origin_location: str, destination_location: str):\n",
    "        \"\"\"\n",
    "        :param origin_location: The textual origin (e.g., 'Stockholm')\n",
    "        :param destination_location: The textual destination (e.g., 'Göteborg')\n",
    "        \"\"\"\n",
    "        self.origin_location = origin_location\n",
    "        self.destination_location = destination_location\n",
    "\n",
    "        # Convert textual locations to stop IDs\n",
    "        self.origin_id = self.access_id_from_location(self.origin_location)\n",
    "        self.dest_id = self.access_id_from_location(self.destination_location)\n",
    "\n",
    "        # Validate stop IDs\n",
    "        if not self.origin_id or not self.dest_id:\n",
    "            raise ValueError(f\"Invalid stop IDs: {self.origin_id}, {self.dest_id}\")\n",
    "\n",
    "        # Fetch trips between origin and destination\n",
    "        self.trips = self.fetch_trips()\n",
    "        if not self.trips:\n",
    "            print(f\"No trips found between {self.origin_location} and {self.destination_location}.\")\n",
    "            self.trips = []\n",
    "\n",
    "    def access_id_from_location(self, location: str) -> str | None:\n",
    "        \"\"\"\n",
    "        Use the Resrobot location.name endpoint to find a location's stop ID.\n",
    "        :param location: A textual name (e.g., 'Stockholm')\n",
    "        :return: The first ID (as a string) if found, else None.\n",
    "        \"\"\"\n",
    "        url = f\"https://api.resrobot.se/v2.1/location.name?input={location}&format=json&accessId={API_KEY}\"\n",
    "        try:\n",
    "            response = requests.get(url)\n",
    "            response.raise_for_status()\n",
    "            result = response.json()\n",
    "        except requests.exceptions.RequestException as e:\n",
    "            print(f\"Request to Resrobot failed for location '{location}': {e}\")\n",
    "            return None\n",
    "\n",
    "        stop_locations = result.get(\"StopLocation\")\n",
    "        if stop_locations and isinstance(stop_locations, list):\n",
    "            return stop_locations[0].get(\"id\")\n",
    "        return None\n",
    "\n",
    "    def fetch_trips(self) -> list | None:\n",
    "        \"\"\"\n",
    "        Fetch trips between origin and destination using Resrobot's trip endpoint.\n",
    "        :return: List of trips as dictionaries or None if the request fails.\n",
    "        \"\"\"\n",
    "        url = (\n",
    "            f\"https://api.resrobot.se/v2.1/trip?format=json\"\n",
    "            f\"&originId={self.origin_id}&destId={self.dest_id}\"\n",
    "            f\"&passlist=true&showPassingPoints=true&accessId={API_KEY}\"\n",
    "        )\n",
    "        try:\n",
    "            response = requests.get(url)\n",
    "            response.raise_for_status()\n",
    "            return response.json().get(\"Trip\")\n",
    "        except requests.exceptions.RequestException as e:\n",
    "            print(f\"Request to Resrobot failed: {e}\")\n",
    "            return None\n",
    "\n",
    "    def next_available_trips_today(self) -> list[pd.DataFrame]:\n",
    "        \"\"\"\n",
    "        Fetch today's available trips between origin and destination.\n",
    "        Each trip is represented as a DataFrame of stops (including arrival and departure times).\n",
    "        :return: A list of DataFrames, each corresponding to one trip.\n",
    "        \"\"\"\n",
    "        if not self.trips:\n",
    "            return []\n",
    "\n",
    "        today_str = datetime.now().date().strftime(\"%Y-%m-%d\")\n",
    "        trips_today = []\n",
    "\n",
    "        for trip in self.trips:\n",
    "            if not isinstance(trip, dict):\n",
    "                continue\n",
    "\n",
    "            leglist = trip.get(\"LegList\", {}).get(\"Leg\", [])\n",
    "            if not leglist:\n",
    "                continue\n",
    "\n",
    "            # Create a DataFrame for the legs\n",
    "            df_legs = pd.DataFrame(leglist)\n",
    "\n",
    "            # Normalize 'Stops' if present\n",
    "            if \"Stops\" in df_legs.columns:\n",
    "                df_stops = pd.json_normalize(\n",
    "                    df_legs[\"Stops\"].dropna(), \n",
    "                    \"Stop\", \n",
    "                    errors=\"ignore\"\n",
    "                )\n",
    "                df_stops[\"time\"] = df_stops[\"arrTime\"].fillna(df_stops[\"depTime\"])\n",
    "                df_stops[\"date\"] = df_stops[\"arrDate\"].fillna(df_stops[\"depDate\"])\n",
    "\n",
    "                # If the trip is today, add it to the result\n",
    "                if not df_stops.empty and df_stops[\"date\"].iloc[0] == today_str:\n",
    "                    trips_today.append(\n",
    "                        df_stops[\n",
    "                            [\n",
    "                                \"name\", \n",
    "                                \"extId\", \n",
    "                                \"lon\", \n",
    "                                \"lat\", \n",
    "                                \"depTime\", \n",
    "                                \"depDate\", \n",
    "                                \"arrTime\", \n",
    "                                \"arrDate\", \n",
    "                                \"time\", \n",
    "                                \"date\"\n",
    "                            ]\n",
    "                        ]\n",
    "                    )\n",
    "        return trips_today\n",
    "\n",
    "    def debug_trips(self):\n",
    "        \"\"\"\n",
    "        Debugging method to log API response.\n",
    "        \"\"\"\n",
    "        print(f\"Debugging trips between {self.origin_id} and {self.dest_id}...\")\n",
    "        print(self.trips)\n",
    "\n",
    "\n",
    "# Example usage\n",
    "if __name__ == \"__main__\":\n",
    "    try:\n",
    "        planner = DeparturePlanner(\"Stockholm\", \"Göteborg\")\n",
    "        trips_today = planner.next_available_trips_today()\n",
    "\n",
    "        if trips_today:\n",
    "            print(\"Here are the trips available today:\")\n",
    "            for idx, trip_df in enumerate(trips_today, start=1):\n",
    "                print(f\"\\nTrip {idx}:\\n{trip_df}\\n\")\n",
    "        else:\n",
    "            print(\"No trips available today.\")\n",
    "    except Exception as e:\n",
    "        print(f\"An error occurred: {e}\")\n"
   ]
  },
  {
   "cell_type": "code",
   "execution_count": 46,
   "metadata": {},
   "outputs": [
    {
     "name": "stdout",
     "output_type": "stream",
     "text": [
      "Location.name call failed: 401, {\"serverVersion\":\"2.45.1\",\"dialectVersion\":\"2.45\",\"errorCode\":\"API_AUTH\",\"errorText\":\"access denied for DIN_NYA_API_NYCKEL on location.name identified by location.name\",\"requestId\":\"default-request-id\"}\n",
      "Trip call failed: 401, {\"serverVersion\":\"2.45.1\",\"dialectVersion\":\"2.45\",\"errorCode\":\"API_AUTH\",\"errorText\":\"access denied for DIN_NYA_API_NYCKEL on tripSearch identified by tripSearch\",\"requestId\":\"default-request-id\"}\n"
     ]
    }
   ],
   "source": [
    "import requests\n",
    "\n",
    "API_KEY = \"DIN_NYA_API_NYCKEL\"\n",
    "\n",
    "# Testar location.name\n",
    "location_url = f\"https://api.resrobot.se/v2.1/location.name?input=Stockholm&format=json&accessId={API_KEY}\"\n",
    "response = requests.get(location_url)\n",
    "if response.status_code == 200:\n",
    "    print(\"Location.name call successful!\")\n",
    "    print(response.json())\n",
    "else:\n",
    "    print(f\"Location.name call failed: {response.status_code}, {response.text}\")\n",
    "\n",
    "# Testar trip\n",
    "trip_url = (\n",
    "    f\"https://api.resrobot.se/v2.1/trip?format=json&originId=740000001&destId=740000002\"\n",
    "    f\"&passlist=true&showPassingPoints=true&accessId={API_KEY}\"\n",
    ")\n",
    "response = requests.get(trip_url)\n",
    "if response.status_code == 200:\n",
    "    print(\"Trip call successful!\")\n",
    "    print(response.json())\n",
    "else:\n",
    "    print(f\"Trip call failed: {response.status_code}, {response.text}\")\n"
   ]
  },
  {
   "cell_type": "code",
   "execution_count": 47,
   "metadata": {},
   "outputs": [
    {
     "name": "stdout",
     "output_type": "stream",
     "text": [
      "Response is None\n"
     ]
    }
   ],
   "source": [
    "print(\"Response is None\")\n"
   ]
  },
  {
   "cell_type": "code",
   "execution_count": 48,
   "metadata": {},
   "outputs": [
    {
     "data": {
      "text/plain": [
       "{'errorCode': 1001, 'errorText': 'Invalid access ID'}"
      ]
     },
     "execution_count": 48,
     "metadata": {},
     "output_type": "execute_result"
    }
   ],
   "source": [
    "{\"errorCode\": 1001, \"errorText\": \"Invalid access ID\"}\n"
   ]
  },
  {
   "cell_type": "code",
   "execution_count": 49,
   "metadata": {},
   "outputs": [
    {
     "name": "stdout",
     "output_type": "stream",
     "text": [
      "{'serverVersion': '2.45.1', 'dialectVersion': '2.45', 'errorCode': 'API_AUTH', 'errorText': 'access denied for din_giltiga_api_nyckel on location.name identified by location.name', 'requestId': 'default-request-id'}\n"
     ]
    }
   ],
   "source": [
    "import requests\n",
    "\n",
    "API_KEY = \"din_giltiga_api_nyckel\"\n",
    "test_url = f\"https://api.resrobot.se/v2.1/location.name?input=Stockholm&format=json&accessId={API_KEY}\"\n",
    "response = requests.get(test_url)\n",
    "print(response.json())\n"
   ]
  },
  {
   "cell_type": "code",
   "execution_count": 50,
   "metadata": {},
   "outputs": [
    {
     "name": "stdout",
     "output_type": "stream",
     "text": [
      "Using API_KEY: a91ab4c63147441e82540a8a02c3cb52\n",
      "API call failed. Status code: 401\n",
      "{\"serverVersion\":\"2.45.1\",\"dialectVersion\":\"2.45\",\"errorCode\":\"API_AUTH\",\"errorText\":\"access denied for a91ab4c63147441e82540a8a02c3cb52 on location.name identified by location.name\",\"requestId\":\"default-request-id\"}\n"
     ]
    }
   ],
   "source": [
    "from dotenv import load_dotenv\n",
    "import os\n",
    "import requests\n",
    "\n",
    "load_dotenv()\n",
    "\n",
    "API_KEY = os.getenv(\"API_KEY\")\n",
    "if not API_KEY:\n",
    "    print(\"API_KEY not found. Check your .env file.\")\n",
    "else:\n",
    "    print(f\"Using API_KEY: {API_KEY}\")\n",
    "\n",
    "    # Testa ett enkelt API-anrop\n",
    "    test_url = f\"https://api.resrobot.se/v2.1/location.name?input=Stockholm&format=json&accessId={API_KEY}\"\n",
    "    response = requests.get(test_url)\n",
    "\n",
    "    if response.status_code == 200:\n",
    "        print(\"API call successful. Response:\")\n",
    "        print(response.json())\n",
    "    else:\n",
    "        print(f\"API call failed. Status code: {response.status_code}\")\n",
    "        print(response.text)\n"
   ]
  },
  {
   "cell_type": "code",
   "execution_count": 51,
   "metadata": {},
   "outputs": [],
   "source": [
    "def access_id_from_location(self, location: str) -> str | None:\n",
    "    url = f\"https://api.resrobot.se/v2.1/location.name?input={location}&format=json&accessId={API_KEY}\"\n",
    "    response = requests.get(url)\n",
    "    if response.status_code != 200:\n",
    "        print(f\"Failed to fetch location for {location}. Status code: {response.status_code}\")\n",
    "        return None\n",
    "\n",
    "    result = response.json()\n",
    "    print(f\"Location response for {location}: {result}\")  # Debug-utskrift\n",
    "\n",
    "    stop_locations = result.get(\"StopLocation\")\n",
    "    if stop_locations and isinstance(stop_locations, list):\n",
    "        return stop_locations[0].get(\"id\")\n",
    "    return None\n"
   ]
  },
  {
   "cell_type": "code",
   "execution_count": null,
   "metadata": {},
   "outputs": [],
   "source": [
    "\n"
   ]
  }
 ],
 "metadata": {
  "kernelspec": {
   "display_name": ".venv",
   "language": "python",
   "name": "python3"
  },
  "language_info": {
   "codemirror_mode": {
    "name": "ipython",
    "version": 3
   },
   "file_extension": ".py",
   "mimetype": "text/x-python",
   "name": "python",
   "nbconvert_exporter": "python",
   "pygments_lexer": "ipython3",
   "version": "3.11.9"
  }
 },
 "nbformat": 4,
 "nbformat_minor": 2
}
