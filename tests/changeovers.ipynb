{
 "cells": [
  {
   "cell_type": "code",
   "execution_count": 176,
   "metadata": {},
   "outputs": [],
   "source": [
    "from backend.connect_to_api import ResRobot\n",
    "from backend.trips import TripPlanner\n",
    "\n",
    "resrobot = ResRobot()"
   ]
  },
  {
   "cell_type": "code",
   "execution_count": 177,
   "metadata": {},
   "outputs": [
    {
     "name": "stdout",
     "output_type": "stream",
     "text": [
      "Name                                               extId\n",
      "Beryllgatan (Göteborg kn)                          740059121\n",
      "Charlottenberg, Källgatan (Eda kn)                 740057021\n",
      "Vallgatan Östansjö (Hallsberg kn)                  740049586\n",
      "Volleybollgatan (Lindesberg kn)                    740075308\n",
      "Smällgatan (Åtvidaberg kn)                         740056207\n",
      "Name                                               extId\n",
      "Vaxholm Västerhamnsplan                            740018045\n",
      "Vaxholm Västerhamnen                               740018092\n",
      "Västerhaninge station (Haninge kn)                 740000787\n",
      "Västerhejde (Gotland kn)                           740071066\n",
      "Västerbroplan (Stockholm kn)                       740046154\n",
      "Västerby skola (Nynäshamn kn)                      740069142\n",
      "Västerplan (Örebro kn)                             740051053\n"
     ]
    },
    {
     "data": {
      "text/plain": [
       "(None, None)"
      ]
     },
     "execution_count": 177,
     "metadata": {},
     "output_type": "execute_result"
    }
   ],
   "source": [
    "resrobot.access_id_from_location(\"beryllgatan\"), resrobot.access_id_from_location(\"västerhamnsplan\")"
   ]
  },
  {
   "cell_type": "code",
   "execution_count": 178,
   "metadata": {},
   "outputs": [
    {
     "data": {
      "text/plain": [
       "dict_keys(['Origin', 'Destination', 'ServiceDays', 'LegList', 'calculation', 'TripStatus', 'idx', 'tripId', 'ctxRecon', 'duration', 'rtDuration', 'checksum', 'transferCount'])"
      ]
     },
     "execution_count": 178,
     "metadata": {},
     "output_type": "execute_result"
    }
   ],
   "source": [
    "resrobot.trips(740059121, 740018045)[\"Trip\"][0].keys()"
   ]
  },
  {
   "cell_type": "code",
   "execution_count": 179,
   "metadata": {},
   "outputs": [],
   "source": [
    "stops = resrobot.trips(740059121, 740018045)[\"Trip\"][0][\"LegList\"][\"Leg\"]\n",
    "number_change_overs = sum(\n",
    "    [\n",
    "        1 if stops[i][\"name\"] not in stops[i - 1][\"name\"] else 0\n",
    "        for i in range(len(stops))\n",
    "    ]\n",
    ")"
   ]
  },
  {
   "cell_type": "code",
   "execution_count": 180,
   "metadata": {},
   "outputs": [
    {
     "data": {
      "text/plain": [
       "6"
      ]
     },
     "execution_count": 180,
     "metadata": {},
     "output_type": "execute_result"
    }
   ],
   "source": [
    "number_change_overs"
   ]
  },
  {
   "cell_type": "code",
   "execution_count": 181,
   "metadata": {},
   "outputs": [
    {
     "name": "stdout",
     "output_type": "stream",
     "text": [
      "Länstrafik - Buss 50\n",
      "Byten\n",
      "Express 2032\n",
      "Byten\n",
      "Länstrafik -Tunnelbana 14\n",
      "Länstrafik - Buss 670\n"
     ]
    }
   ],
   "source": [
    "for stop in stops:\n",
    "    print(stop[\"name\"])"
   ]
  },
  {
   "cell_type": "code",
   "execution_count": 182,
   "metadata": {},
   "outputs": [
    {
     "data": {
      "text/plain": [
       "6"
      ]
     },
     "execution_count": 182,
     "metadata": {},
     "output_type": "execute_result"
    }
   ],
   "source": [
    "number_change_overs"
   ]
  },
  {
   "cell_type": "code",
   "execution_count": 183,
   "metadata": {},
   "outputs": [],
   "source": [
    "def changeovers():\n",
    "    stops = resrobot.trips(740059121, 740018045)[\"Trip\"][0][\"LegList\"][\"Leg\"]\n",
    "    filtered_names = [\n",
    "        stops[i][\"name\"]\n",
    "        for i in range(len(stops))\n",
    "        if stops[i][\"name\"] != \"Byten\" or stops[i][\"name\"] == \"Promenad\"\n",
    "    ]\n",
    "    number_change_overs = sum(\n",
    "        [\n",
    "            (1 if filtered_names[i] not in filtered_names[i - 1] else 0)\n",
    "            for i in range(len(filtered_names))\n",
    "        ]\n",
    "    )\n",
    "    return number_change_overs"
   ]
  },
  {
   "cell_type": "code",
   "execution_count": 184,
   "metadata": {},
   "outputs": [
    {
     "data": {
      "text/plain": [
       "4"
      ]
     },
     "execution_count": 184,
     "metadata": {},
     "output_type": "execute_result"
    }
   ],
   "source": [
    "changeovers()"
   ]
  },
  {
   "cell_type": "code",
   "execution_count": null,
   "metadata": {},
   "outputs": [],
   "source": []
  }
 ],
 "metadata": {
  "kernelspec": {
   "display_name": ".venv",
   "language": "python",
   "name": "python3"
  },
  "language_info": {
   "codemirror_mode": {
    "name": "ipython",
    "version": 3
   },
   "file_extension": ".py",
   "mimetype": "text/x-python",
   "name": "python",
   "nbconvert_exporter": "python",
   "pygments_lexer": "ipython3",
   "version": "3.11.9"
  }
 },
 "nbformat": 4,
 "nbformat_minor": 2
}
