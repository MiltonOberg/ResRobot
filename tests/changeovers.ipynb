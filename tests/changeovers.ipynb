{
 "cells": [
  {
   "cell_type": "code",
   "execution_count": 59,
   "metadata": {},
   "outputs": [],
   "source": [
    "from backend.connect_to_api import ResRobot\n",
    "from backend.trips import TripPlanner\n",
    "\n",
    "resrobot = ResRobot()"
   ]
  },
  {
   "cell_type": "code",
   "execution_count": 60,
   "metadata": {},
   "outputs": [
    {
     "name": "stdout",
     "output_type": "stream",
     "text": [
      "Name                                               extId\n",
      "Göteborg Centralstation                            740000002\n",
      "Göteborg Centralst Drottningt                      740030117\n",
      "Göteborg Sahlgrenska huvudentr                     740015591\n",
      "Gårdsten Centrum (Göteborg kn)                     740059453\n",
      "Angered centrum (Göteborg kn)                      740025606\n",
      "Amhult Resecentrum (Göteborg kn)                   740071633\n",
      "Bäckebol Köpcentrum (Göteborg kn)                  740059477\n",
      "Kärra Centrum (Göteborg kn)                        740059386\n",
      "Köpcentrum 421 (Göteborg kn)                       740059228\n",
      "Lövgärdets Centrum (Göteborg kn)                   740059672\n",
      "Name                                               extId\n",
      "Beryllgatan (Göteborg kn)                          740059121\n",
      "Charlottenberg, Källgatan (Eda kn)                 740057021\n",
      "Vallgatan Östansjö (Hallsberg kn)                  740049586\n",
      "Volleybollgatan (Lindesberg kn)                    740075308\n",
      "Smällgatan (Åtvidaberg kn)                         740056207\n"
     ]
    },
    {
     "data": {
      "text/plain": [
       "(None, None)"
      ]
     },
     "execution_count": 60,
     "metadata": {},
     "output_type": "execute_result"
    }
   ],
   "source": [
    "resrobot.access_id_from_location(\"göteborgcentral\"), resrobot.access_id_from_location(\"beryllgatan\")"
   ]
  },
  {
   "cell_type": "code",
   "execution_count": 61,
   "metadata": {},
   "outputs": [
    {
     "data": {
      "text/plain": [
       "dict_keys(['Origin', 'Destination', 'ServiceDays', 'LegList', 'calculation', 'TripStatus', 'idx', 'tripId', 'ctxRecon', 'duration', 'rtDuration', 'checksum'])"
      ]
     },
     "execution_count": 61,
     "metadata": {},
     "output_type": "execute_result"
    }
   ],
   "source": [
    "resrobot.trips(740000002, 740059121)[\"Trip\"][0].keys()"
   ]
  },
  {
   "cell_type": "code",
   "execution_count": 62,
   "metadata": {},
   "outputs": [],
   "source": [
    "stops = resrobot.trips(740000002, 740059121)[\"Trip\"][0][\"LegList\"][\"Leg\"]\n",
    "number_change_overs = sum([\n",
    "    1 if stops[i][\"name\"] not in stops[i - 1][\"name\"] else 0 for i in range(len(stops))\n",
    "])"
   ]
  },
  {
   "cell_type": "code",
   "execution_count": 63,
   "metadata": {},
   "outputs": [
    {
     "data": {
      "text/plain": [
       "2"
      ]
     },
     "execution_count": 63,
     "metadata": {},
     "output_type": "execute_result"
    }
   ],
   "source": [
    "number_change_overs"
   ]
  },
  {
   "cell_type": "code",
   "execution_count": 64,
   "metadata": {},
   "outputs": [
    {
     "name": "stdout",
     "output_type": "stream",
     "text": [
      "Promenad\n",
      "Länstrafik - Buss 50\n"
     ]
    }
   ],
   "source": [
    "for stop in stops:\n",
    "    print(stop[\"name\"])"
   ]
  },
  {
   "cell_type": "code",
   "execution_count": 65,
   "metadata": {},
   "outputs": [
    {
     "data": {
      "text/plain": [
       "2"
      ]
     },
     "execution_count": 65,
     "metadata": {},
     "output_type": "execute_result"
    }
   ],
   "source": [
    "number_change_overs"
   ]
  },
  {
   "cell_type": "code",
   "execution_count": 66,
   "metadata": {},
   "outputs": [
    {
     "ename": "SyntaxError",
     "evalue": "invalid syntax (619998501.py, line 3)",
     "output_type": "error",
     "traceback": [
      "\u001b[1;36m  Cell \u001b[1;32mIn[66], line 3\u001b[1;36m\u001b[0m\n\u001b[1;33m    number_change_overs =\u001b[0m\n\u001b[1;37m                          ^\u001b[0m\n\u001b[1;31mSyntaxError\u001b[0m\u001b[1;31m:\u001b[0m invalid syntax\n"
     ]
    }
   ],
   "source": [
    "def changeovers():\n",
    "    stops = resrobot.trips(740098001, 740018045)[\"Trip\"][0][\"LegList\"][\"Leg\"]\n",
    "\n",
    "    number_change_overs = sum(\n",
    "        [\n",
    "            (\n",
    "                1\n",
    "                if stops[i][\"name\"] not in stops[i - 1][\"name\"] or stops[i] == \"byten\"\n",
    "                else 0\n",
    "            )\n",
    "            for i in range(len(stops))\n",
    "        ]\n",
    "    )\n",
    "    return number_change_overs"
   ]
  }
 ],
 "metadata": {
  "kernelspec": {
   "display_name": ".venv",
   "language": "python",
   "name": "python3"
  },
  "language_info": {
   "codemirror_mode": {
    "name": "ipython",
    "version": 3
   },
   "file_extension": ".py",
   "mimetype": "text/x-python",
   "name": "python",
   "nbconvert_exporter": "python",
   "pygments_lexer": "ipython3",
   "version": "3.11.9"
  }
 },
 "nbformat": 4,
 "nbformat_minor": 2
}
