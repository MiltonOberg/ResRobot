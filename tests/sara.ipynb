{
 "cells": [
  {
   "cell_type": "code",
   "execution_count": 19,
   "metadata": {},
   "outputs": [],
   "source": [
    "import requests\n",
    "import pandas\n",
    "from backend.connect_to_api import ResRobot\n",
    "from backend.trips import TripPlanner\n",
    "\n",
    "\n",
    "class DepaturePlanner(TripPlanner):\n",
    "    def __init__(self, origin_id, destination_id):\n",
    "        super().__init__(origin_id, destination_id)\n",
    "        self.origin_id = origin_id\n",
    "        self.destination_id = destination_id\n",
    "        self.access_id_from_location(self.origin_id)\n",
    "        self.access_id_from_location(self.destination_id)\n",
    "        resrobot = ResRobot()\n",
    "        self.trips = resrobot.trips(self.origin_id, self.destination)\n",
    "\n",
    "    def access_id_from_location(self, location, start_location):\n",
    "        url = f\"https://api.resrobot.se/v2.1/location.name?input={location}&format=json&accessId={self.API_KEY}\"\n",
    "        start_location = start_location\n",
    "        response = requests.get(url)\n",
    "        result = response.json()\n",
    "        return result  # temp fix\n",
    "\n",
    "    def timetable_departure(self, location_id, end_location):\n",
    "        url = f\"https://api.resrobot.se/v2.1/departureBoard?id={location_id}&format=json&accessId={self.API_KEY}\"\n",
    "        location_id = self.origin_id\n",
    "        end_location = end_location\n",
    "        response = requests.get(url)\n",
    "        result = response.json()\n",
    "        return result\n",
    "\n",
    "    def next_trip(self):\n",
    "        next_trip = self.trips[\"Trip\"]\n",
    "        return next_trip"
   ]
  },
  {
   "cell_type": "code",
   "execution_count": 20,
   "metadata": {},
   "outputs": [],
   "source": [
    "def Static_data(self):\n",
    "    url = f\"https://opendata.samtrafiken.se/gtfs-sweden/sweden.zip?key={self.API_KEY}.\"\n",
    "    response = requests.get(url)\n",
    "    result = response.json()\n",
    "    return result"
   ]
  },
  {
   "cell_type": "code",
   "execution_count": null,
   "metadata": {},
   "outputs": [
    {
     "name": "stdout",
     "output_type": "stream",
     "text": [
      "Failed to retrieve data: 403\n"
     ]
    },
    {
     "ename": "",
     "evalue": "",
     "output_type": "error",
     "traceback": [
      "\u001b[1;31mThe Kernel crashed while executing code in the current cell or a previous cell. \n",
      "\u001b[1;31mPlease review the code in the cell(s) to identify a possible cause of the failure. \n",
      "\u001b[1;31mClick <a href='https://aka.ms/vscodeJupyterKernelCrash'>here</a> for more info. \n",
      "\u001b[1;31mView Jupyter <a href='command:jupyter.viewOutput'>log</a> for further details."
     ]
    }
   ],
   "source": [
    "import pandas as pd\n",
    "import requests\n",
    "import zipfile\n",
    "import io\n",
    "import os\n",
    "\n",
    "from dotenv import load_dotenv\n",
    "\n",
    "load_dotenv()\n",
    "\n",
    "API_KEY = os.getenv(\"API_KEY_3Real\")\n",
    "url = f\"https://opendata.samtrafiken.se/gtfs-sweden/sweden.zip?key={API_KEY}\"\n",
    "response = requests.get(url)\n",
    "if response.status_code == 200:\n",
    "    with zipfile.ZipFile(io.BytesIO(response.content)) as thezip:\n",
    "        for zipinfo in thezip.infolist():\n",
    "            if zipinfo.filename.endswith('.txt'):\n",
    "                with thezip.open(zipinfo.filename) as thefile:\n",
    "                    df = pd.read_csv(thefile)\n",
    "                    print(df.head())\n",
    "else:\n",
    "    print(f\"Failed to retrieve data: {response.status_code}\")\n"
   ]
  }
 ],
 "metadata": {
  "kernelspec": {
   "display_name": ".venv",
   "language": "python",
   "name": "python3"
  },
  "language_info": {
   "codemirror_mode": {
    "name": "ipython",
    "version": 3
   },
   "file_extension": ".py",
   "mimetype": "text/x-python",
   "name": "python",
   "nbconvert_exporter": "python",
   "pygments_lexer": "ipython3",
   "version": "3.11.9"
  }
 },
 "nbformat": 4,
 "nbformat_minor": 2
}
