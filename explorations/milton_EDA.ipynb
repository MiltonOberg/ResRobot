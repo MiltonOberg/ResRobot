{
 "cells": [
  {
   "cell_type": "markdown",
   "metadata": {},
   "source": [
    "# EDA"
   ]
  },
  {
   "cell_type": "code",
   "execution_count": 1,
   "metadata": {},
   "outputs": [],
   "source": [
    "from backend.connect_to_api import ResRobot\n",
    "from backend.trips import TripPlanner"
   ]
  },
  {
   "cell_type": "code",
   "execution_count": 2,
   "metadata": {},
   "outputs": [],
   "source": [
    "resrobot= ResRobot()"
   ]
  },
  {
   "cell_type": "code",
   "execution_count": 3,
   "metadata": {},
   "outputs": [
    {
     "name": "stdout",
     "output_type": "stream",
     "text": [
      "Name                                               extId\n",
      "Engarn (Vaxholm kn)                                740024782\n",
      "Edviksängarna (Söderhamn kn)                       740006325\n",
      "Ängarna (Färgelanda kn)                            740042737\n",
      "Bergsbyängarna Norra (Skellefteå kn)               740076787\n",
      "Bergsbyängarna Östra 372 (Skellefteå kn)           740071627\n",
      "Bergsbyängarna Södra (Skellefteå kn)               740071826\n",
      "Bergsbyängarna Västra 372 (Skellefteå kn)          740077074\n",
      "Gävle Järvstaängarna                               740019301\n",
      "Getinge Ängarna (Halmstad kn)                      740033264\n",
      "Oskarström Ängarna (Halmstad kn)                   740033220\n"
     ]
    }
   ],
   "source": [
    "resrobot.access_id_from_location(location= \"engarn\")"
   ]
  },
  {
   "cell_type": "code",
   "execution_count": 4,
   "metadata": {},
   "outputs": [],
   "source": [
    "engarn = resrobot.timetable_departure(740024782)[\"Departure\"]"
   ]
  },
  {
   "cell_type": "code",
   "execution_count": 5,
   "metadata": {},
   "outputs": [
    {
     "data": {
      "text/plain": [
       "10"
      ]
     },
     "execution_count": 5,
     "metadata": {},
     "output_type": "execute_result"
    }
   ],
   "source": [
    "len(engarn)"
   ]
  },
  {
   "cell_type": "code",
   "execution_count": 6,
   "metadata": {},
   "outputs": [
    {
     "data": {
      "text/plain": [
       "dict_keys(['JourneyDetailRef', 'JourneyStatus', 'ProductAtStop', 'Product', 'Notes', 'name', 'type', 'stop', 'stopid', 'stopExtId', 'lon', 'lat', 'time', 'date', 'reachable', 'direction', 'directionFlag'])"
      ]
     },
     "execution_count": 6,
     "metadata": {},
     "output_type": "execute_result"
    }
   ],
   "source": [
    "engarn[0].keys()"
   ]
  },
  {
   "cell_type": "code",
   "execution_count": 7,
   "metadata": {},
   "outputs": [
    {
     "data": {
      "text/plain": [
       "{'icon': {'res': 'prod_gen'},\n",
       " 'operatorInfo': {'name': 'SL',\n",
       "  'nameS': '275',\n",
       "  'nameN': '275',\n",
       "  'nameL': 'SL',\n",
       "  'id': '275'},\n",
       " 'name': 'Länstrafik - Buss 670',\n",
       " 'internalName': 'Länstrafik - Buss 670',\n",
       " 'displayNumber': '670',\n",
       " 'num': '670',\n",
       " 'line': '670',\n",
       " 'lineId': '1275067000001',\n",
       " 'catOut': 'BLT',\n",
       " 'catIn': 'BLT',\n",
       " 'catCode': '7',\n",
       " 'cls': '128',\n",
       " 'catOutS': 'BLT',\n",
       " 'catOutL': 'Länstrafik - Buss',\n",
       " 'operatorCode': '275',\n",
       " 'operator': 'SL',\n",
       " 'admin': '275___',\n",
       " 'matchId': '670;670;11050'}"
      ]
     },
     "execution_count": 7,
     "metadata": {},
     "output_type": "execute_result"
    }
   ],
   "source": [
    "engarn[1][\"ProductAtStop\"]"
   ]
  },
  {
   "cell_type": "code",
   "execution_count": 8,
   "metadata": {},
   "outputs": [
    {
     "name": "stdout",
     "output_type": "stream",
     "text": [
      "name: Länstrafik - Buss 670\n",
      "name: Länstrafik - Buss 670\n",
      "name: Länstrafik - Buss 682\n",
      "name: Länstrafik - Buss 670\n",
      "name: Länstrafik - Buss 670\n",
      "name: Länstrafik - Buss 670\n",
      "name: Länstrafik - Buss 670\n",
      "name: Länstrafik - Buss 682\n",
      "name: Länstrafik - Buss 670\n",
      "name: Länstrafik - Buss 670\n"
     ]
    }
   ],
   "source": [
    "for trip in engarn:\n",
    "    print(f\"name: {trip['name']}\")"
   ]
  },
  {
   "cell_type": "code",
   "execution_count": 9,
   "metadata": {},
   "outputs": [
    {
     "name": "stdout",
     "output_type": "stream",
     "text": [
      "Mot: Tekniska Högskolan T-bana (Stockholm kn)\n",
      "Mot: Vaxholm Västerhamnsplan\n",
      "Mot: Överby (Vaxholm kn)\n",
      "Mot: Tekniska Högskolan T-bana (Stockholm kn)\n",
      "Mot: Vaxholm Västerhamnsplan\n",
      "Mot: Tekniska Högskolan T-bana (Stockholm kn)\n",
      "Mot: Vaxholm Västerhamnsplan\n",
      "Mot: Överby (Vaxholm kn)\n",
      "Mot: Tekniska Högskolan T-bana (Stockholm kn)\n",
      "Mot: Vaxholm Västerhamnsplan\n"
     ]
    }
   ],
   "source": [
    "for trip in engarn:\n",
    "    print(f\"Mot: {trip['direction']}\")"
   ]
  },
  {
   "cell_type": "code",
   "execution_count": 10,
   "metadata": {},
   "outputs": [
    {
     "name": "stdout",
     "output_type": "stream",
     "text": [
      "Name                                               extId\n",
      "Tekniska Högskolan T-bana (Stockholm kn)           740011606\n",
      "Handelshögskolan (Stockholm kn)                    740046130\n",
      "Högdalen T-bana (Stockholm kn)                     740021712\n",
      "Stockholm Musikhögskolan                           740045277\n",
      "Skogskyrkogården T-bana (Stockholm kn)             740021701\n",
      "Thorildsplan T-bana (Stockholm kn)                 740021664\n",
      "Telefonplan T-bana (Stockholm kn)                  740021716\n",
      "Gullmarsplan T-bana (Stockholm kn)                 740021705\n",
      "Brommaplan T-bana (Stockholm kn)                   740020581\n",
      "Fridhemsplan T-bana (Stockholm kn)                 740021661\n"
     ]
    }
   ],
   "source": [
    "resrobot.access_id_from_location(location= \"Tekniska Högskolan T-bana (Stockholm kn)\")"
   ]
  },
  {
   "cell_type": "code",
   "execution_count": 11,
   "metadata": {},
   "outputs": [],
   "source": [
    "ev_tek= TripPlanner(740068687, 740011606)"
   ]
  },
  {
   "cell_type": "code",
   "execution_count": 12,
   "metadata": {},
   "outputs": [
    {
     "data": {
      "text/html": [
       "<div>\n",
       "<style scoped>\n",
       "    .dataframe tbody tr th:only-of-type {\n",
       "        vertical-align: middle;\n",
       "    }\n",
       "\n",
       "    .dataframe tbody tr th {\n",
       "        vertical-align: top;\n",
       "    }\n",
       "\n",
       "    .dataframe thead th {\n",
       "        text-align: right;\n",
       "    }\n",
       "</style>\n",
       "<table border=\"1\" class=\"dataframe\">\n",
       "  <thead>\n",
       "    <tr style=\"text-align: right;\">\n",
       "      <th></th>\n",
       "      <th>name</th>\n",
       "      <th>extId</th>\n",
       "      <th>lon</th>\n",
       "      <th>lat</th>\n",
       "      <th>depTime</th>\n",
       "      <th>depDate</th>\n",
       "      <th>arrTime</th>\n",
       "      <th>arrDate</th>\n",
       "      <th>time</th>\n",
       "      <th>date</th>\n",
       "    </tr>\n",
       "  </thead>\n",
       "  <tbody>\n",
       "    <tr>\n",
       "      <th>0</th>\n",
       "      <td>Eriksövägen (Vaxholm kn)</td>\n",
       "      <td>740068687</td>\n",
       "      <td>18.318605</td>\n",
       "      <td>59.405708</td>\n",
       "      <td>11:21:00</td>\n",
       "      <td>2025-01-27</td>\n",
       "      <td>NaN</td>\n",
       "      <td>NaN</td>\n",
       "      <td>11:21:00</td>\n",
       "      <td>2025-01-27</td>\n",
       "    </tr>\n",
       "    <tr>\n",
       "      <th>1</th>\n",
       "      <td>Kullö (Vaxholm kn)</td>\n",
       "      <td>740068686</td>\n",
       "      <td>18.316312</td>\n",
       "      <td>59.411695</td>\n",
       "      <td>11:23:00</td>\n",
       "      <td>2025-01-27</td>\n",
       "      <td>11:23:00</td>\n",
       "      <td>2025-01-27</td>\n",
       "      <td>11:23:00</td>\n",
       "      <td>2025-01-27</td>\n",
       "    </tr>\n",
       "    <tr>\n",
       "      <th>2</th>\n",
       "      <td>Engarn (Vaxholm kn)</td>\n",
       "      <td>740024782</td>\n",
       "      <td>18.311198</td>\n",
       "      <td>59.417538</td>\n",
       "      <td>11:26:00</td>\n",
       "      <td>2025-01-27</td>\n",
       "      <td>11:26:00</td>\n",
       "      <td>2025-01-27</td>\n",
       "      <td>11:26:00</td>\n",
       "      <td>2025-01-27</td>\n",
       "    </tr>\n",
       "    <tr>\n",
       "      <th>3</th>\n",
       "      <td>Bullerholmen (Vaxholm kn)</td>\n",
       "      <td>740068685</td>\n",
       "      <td>18.293408</td>\n",
       "      <td>59.422725</td>\n",
       "      <td>11:27:00</td>\n",
       "      <td>2025-01-27</td>\n",
       "      <td>11:27:00</td>\n",
       "      <td>2025-01-27</td>\n",
       "      <td>11:27:00</td>\n",
       "      <td>2025-01-27</td>\n",
       "    </tr>\n",
       "    <tr>\n",
       "      <th>4</th>\n",
       "      <td>Nibble (Vaxholm kn)</td>\n",
       "      <td>740068684</td>\n",
       "      <td>18.258557</td>\n",
       "      <td>59.427201</td>\n",
       "      <td>11:29:00</td>\n",
       "      <td>2025-01-27</td>\n",
       "      <td>11:29:00</td>\n",
       "      <td>2025-01-27</td>\n",
       "      <td>11:29:00</td>\n",
       "      <td>2025-01-27</td>\n",
       "    </tr>\n",
       "    <tr>\n",
       "      <th>5</th>\n",
       "      <td>Ladvik (Vaxholm kn)</td>\n",
       "      <td>740068683</td>\n",
       "      <td>18.228551</td>\n",
       "      <td>59.428037</td>\n",
       "      <td>11:30:00</td>\n",
       "      <td>2025-01-27</td>\n",
       "      <td>11:30:00</td>\n",
       "      <td>2025-01-27</td>\n",
       "      <td>11:30:00</td>\n",
       "      <td>2025-01-27</td>\n",
       "    </tr>\n",
       "    <tr>\n",
       "      <th>6</th>\n",
       "      <td>Polackstorp (Österåker kn)</td>\n",
       "      <td>740068682</td>\n",
       "      <td>18.219427</td>\n",
       "      <td>59.434285</td>\n",
       "      <td>11:31:00</td>\n",
       "      <td>2025-01-27</td>\n",
       "      <td>11:31:00</td>\n",
       "      <td>2025-01-27</td>\n",
       "      <td>11:31:00</td>\n",
       "      <td>2025-01-27</td>\n",
       "    </tr>\n",
       "    <tr>\n",
       "      <th>7</th>\n",
       "      <td>Kulla vägskäl Österåker</td>\n",
       "      <td>740034949</td>\n",
       "      <td>18.216559</td>\n",
       "      <td>59.449755</td>\n",
       "      <td>11:34:00</td>\n",
       "      <td>2025-01-27</td>\n",
       "      <td>11:34:00</td>\n",
       "      <td>2025-01-27</td>\n",
       "      <td>11:34:00</td>\n",
       "      <td>2025-01-27</td>\n",
       "    </tr>\n",
       "    <tr>\n",
       "      <th>8</th>\n",
       "      <td>Östra Ryds kyrka (Österåker kn)</td>\n",
       "      <td>740068680</td>\n",
       "      <td>18.192477</td>\n",
       "      <td>59.453603</td>\n",
       "      <td>11:35:00</td>\n",
       "      <td>2025-01-27</td>\n",
       "      <td>11:35:00</td>\n",
       "      <td>2025-01-27</td>\n",
       "      <td>11:35:00</td>\n",
       "      <td>2025-01-27</td>\n",
       "    </tr>\n",
       "    <tr>\n",
       "      <th>9</th>\n",
       "      <td>Kocktorp (Österåker kn)</td>\n",
       "      <td>740068681</td>\n",
       "      <td>18.153239</td>\n",
       "      <td>59.454951</td>\n",
       "      <td>11:38:00</td>\n",
       "      <td>2025-01-27</td>\n",
       "      <td>11:38:00</td>\n",
       "      <td>2025-01-27</td>\n",
       "      <td>11:38:00</td>\n",
       "      <td>2025-01-27</td>\n",
       "    </tr>\n",
       "    <tr>\n",
       "      <th>10</th>\n",
       "      <td>Arninge station buss (Täby kn)</td>\n",
       "      <td>740076292</td>\n",
       "      <td>18.140034</td>\n",
       "      <td>59.459140</td>\n",
       "      <td>11:41:00</td>\n",
       "      <td>2025-01-27</td>\n",
       "      <td>11:41:00</td>\n",
       "      <td>2025-01-27</td>\n",
       "      <td>11:41:00</td>\n",
       "      <td>2025-01-27</td>\n",
       "    </tr>\n",
       "    <tr>\n",
       "      <th>11</th>\n",
       "      <td>Roslags Näsby trafikplats E18 (Täby kn)</td>\n",
       "      <td>740045615</td>\n",
       "      <td>18.068893</td>\n",
       "      <td>59.434528</td>\n",
       "      <td>11:46:00</td>\n",
       "      <td>2025-01-27</td>\n",
       "      <td>11:46:00</td>\n",
       "      <td>2025-01-27</td>\n",
       "      <td>11:46:00</td>\n",
       "      <td>2025-01-27</td>\n",
       "    </tr>\n",
       "    <tr>\n",
       "      <th>12</th>\n",
       "      <td>Mörby centrum E18 (Danderyd kn)</td>\n",
       "      <td>740045596</td>\n",
       "      <td>18.037206</td>\n",
       "      <td>59.398130</td>\n",
       "      <td>NaN</td>\n",
       "      <td>NaN</td>\n",
       "      <td>11:51:00</td>\n",
       "      <td>2025-01-27</td>\n",
       "      <td>11:51:00</td>\n",
       "      <td>2025-01-27</td>\n",
       "    </tr>\n",
       "    <tr>\n",
       "      <th>13</th>\n",
       "      <td>Danderyds sjukhus T-bana</td>\n",
       "      <td>740010232</td>\n",
       "      <td>18.041368</td>\n",
       "      <td>59.391901</td>\n",
       "      <td>11:54:00</td>\n",
       "      <td>2025-01-27</td>\n",
       "      <td>11:54:00</td>\n",
       "      <td>2025-01-27</td>\n",
       "      <td>11:54:00</td>\n",
       "      <td>2025-01-27</td>\n",
       "    </tr>\n",
       "    <tr>\n",
       "      <th>14</th>\n",
       "      <td>Universitetet T-bana (Stockholm kn)</td>\n",
       "      <td>740021645</td>\n",
       "      <td>18.054888</td>\n",
       "      <td>59.365571</td>\n",
       "      <td>12:00:00</td>\n",
       "      <td>2025-01-27</td>\n",
       "      <td>12:00:00</td>\n",
       "      <td>2025-01-27</td>\n",
       "      <td>12:00:00</td>\n",
       "      <td>2025-01-27</td>\n",
       "    </tr>\n",
       "    <tr>\n",
       "      <th>15</th>\n",
       "      <td>Universitetet södra (Stockholm kn)</td>\n",
       "      <td>740045510</td>\n",
       "      <td>18.056138</td>\n",
       "      <td>59.360996</td>\n",
       "      <td>12:01:00</td>\n",
       "      <td>2025-01-27</td>\n",
       "      <td>12:01:00</td>\n",
       "      <td>2025-01-27</td>\n",
       "      <td>12:01:00</td>\n",
       "      <td>2025-01-27</td>\n",
       "    </tr>\n",
       "    <tr>\n",
       "      <th>16</th>\n",
       "      <td>Albano (Stockholm kn)</td>\n",
       "      <td>740068909</td>\n",
       "      <td>18.055562</td>\n",
       "      <td>59.356321</td>\n",
       "      <td>12:02:00</td>\n",
       "      <td>2025-01-27</td>\n",
       "      <td>12:02:00</td>\n",
       "      <td>2025-01-27</td>\n",
       "      <td>12:02:00</td>\n",
       "      <td>2025-01-27</td>\n",
       "    </tr>\n",
       "    <tr>\n",
       "      <th>17</th>\n",
       "      <td>Roslagstull (på Valhallavägen) (Stockholm kn)</td>\n",
       "      <td>740068690</td>\n",
       "      <td>18.059023</td>\n",
       "      <td>59.350173</td>\n",
       "      <td>NaN</td>\n",
       "      <td>NaN</td>\n",
       "      <td>12:04:00</td>\n",
       "      <td>2025-01-27</td>\n",
       "      <td>12:04:00</td>\n",
       "      <td>2025-01-27</td>\n",
       "    </tr>\n",
       "    <tr>\n",
       "      <th>18</th>\n",
       "      <td>Tekniska Högskolan T-bana (Stockholm kn)</td>\n",
       "      <td>740011606</td>\n",
       "      <td>18.071716</td>\n",
       "      <td>59.345822</td>\n",
       "      <td>NaN</td>\n",
       "      <td>NaN</td>\n",
       "      <td>12:08:00</td>\n",
       "      <td>2025-01-27</td>\n",
       "      <td>12:08:00</td>\n",
       "      <td>2025-01-27</td>\n",
       "    </tr>\n",
       "  </tbody>\n",
       "</table>\n",
       "</div>"
      ],
      "text/plain": [
       "                                             name      extId        lon  \\\n",
       "0                        Eriksövägen (Vaxholm kn)  740068687  18.318605   \n",
       "1                              Kullö (Vaxholm kn)  740068686  18.316312   \n",
       "2                             Engarn (Vaxholm kn)  740024782  18.311198   \n",
       "3                       Bullerholmen (Vaxholm kn)  740068685  18.293408   \n",
       "4                             Nibble (Vaxholm kn)  740068684  18.258557   \n",
       "5                             Ladvik (Vaxholm kn)  740068683  18.228551   \n",
       "6                      Polackstorp (Österåker kn)  740068682  18.219427   \n",
       "7                         Kulla vägskäl Österåker  740034949  18.216559   \n",
       "8                 Östra Ryds kyrka (Österåker kn)  740068680  18.192477   \n",
       "9                         Kocktorp (Österåker kn)  740068681  18.153239   \n",
       "10                 Arninge station buss (Täby kn)  740076292  18.140034   \n",
       "11        Roslags Näsby trafikplats E18 (Täby kn)  740045615  18.068893   \n",
       "12                Mörby centrum E18 (Danderyd kn)  740045596  18.037206   \n",
       "13                       Danderyds sjukhus T-bana  740010232  18.041368   \n",
       "14            Universitetet T-bana (Stockholm kn)  740021645  18.054888   \n",
       "15             Universitetet södra (Stockholm kn)  740045510  18.056138   \n",
       "16                          Albano (Stockholm kn)  740068909  18.055562   \n",
       "17  Roslagstull (på Valhallavägen) (Stockholm kn)  740068690  18.059023   \n",
       "18       Tekniska Högskolan T-bana (Stockholm kn)  740011606  18.071716   \n",
       "\n",
       "          lat   depTime     depDate   arrTime     arrDate      time  \\\n",
       "0   59.405708  11:21:00  2025-01-27       NaN         NaN  11:21:00   \n",
       "1   59.411695  11:23:00  2025-01-27  11:23:00  2025-01-27  11:23:00   \n",
       "2   59.417538  11:26:00  2025-01-27  11:26:00  2025-01-27  11:26:00   \n",
       "3   59.422725  11:27:00  2025-01-27  11:27:00  2025-01-27  11:27:00   \n",
       "4   59.427201  11:29:00  2025-01-27  11:29:00  2025-01-27  11:29:00   \n",
       "5   59.428037  11:30:00  2025-01-27  11:30:00  2025-01-27  11:30:00   \n",
       "6   59.434285  11:31:00  2025-01-27  11:31:00  2025-01-27  11:31:00   \n",
       "7   59.449755  11:34:00  2025-01-27  11:34:00  2025-01-27  11:34:00   \n",
       "8   59.453603  11:35:00  2025-01-27  11:35:00  2025-01-27  11:35:00   \n",
       "9   59.454951  11:38:00  2025-01-27  11:38:00  2025-01-27  11:38:00   \n",
       "10  59.459140  11:41:00  2025-01-27  11:41:00  2025-01-27  11:41:00   \n",
       "11  59.434528  11:46:00  2025-01-27  11:46:00  2025-01-27  11:46:00   \n",
       "12  59.398130       NaN         NaN  11:51:00  2025-01-27  11:51:00   \n",
       "13  59.391901  11:54:00  2025-01-27  11:54:00  2025-01-27  11:54:00   \n",
       "14  59.365571  12:00:00  2025-01-27  12:00:00  2025-01-27  12:00:00   \n",
       "15  59.360996  12:01:00  2025-01-27  12:01:00  2025-01-27  12:01:00   \n",
       "16  59.356321  12:02:00  2025-01-27  12:02:00  2025-01-27  12:02:00   \n",
       "17  59.350173       NaN         NaN  12:04:00  2025-01-27  12:04:00   \n",
       "18  59.345822       NaN         NaN  12:08:00  2025-01-27  12:08:00   \n",
       "\n",
       "          date  \n",
       "0   2025-01-27  \n",
       "1   2025-01-27  \n",
       "2   2025-01-27  \n",
       "3   2025-01-27  \n",
       "4   2025-01-27  \n",
       "5   2025-01-27  \n",
       "6   2025-01-27  \n",
       "7   2025-01-27  \n",
       "8   2025-01-27  \n",
       "9   2025-01-27  \n",
       "10  2025-01-27  \n",
       "11  2025-01-27  \n",
       "12  2025-01-27  \n",
       "13  2025-01-27  \n",
       "14  2025-01-27  \n",
       "15  2025-01-27  \n",
       "16  2025-01-27  \n",
       "17  2025-01-27  \n",
       "18  2025-01-27  "
      ]
     },
     "execution_count": 12,
     "metadata": {},
     "output_type": "execute_result"
    }
   ],
   "source": [
    "ev_tek.next_available_trip()"
   ]
  },
  {
   "cell_type": "code",
   "execution_count": 13,
   "metadata": {},
   "outputs": [
    {
     "name": "stdout",
     "output_type": "stream",
     "text": [
      "0 timmar 47 minuter\n"
     ]
    }
   ],
   "source": [
    "print(ev_tek.travel_time())"
   ]
  },
  {
   "cell_type": "code",
   "execution_count": 14,
   "metadata": {},
   "outputs": [
    {
     "name": "stdout",
     "output_type": "stream",
     "text": [
      "Name                                               extId\n",
      "Danderyds sjukhus T-bana                           740010232\n",
      "Danderyds gymnasium                                740067529\n",
      "Danderydsberg                                      740067450\n",
      "Danderydsvallen                                    740067480\n",
      "Danderyds kyrka                                    740067478\n",
      "Eksjö Höglandssjukhuset                            740025017\n",
      "Danarövägen (Danderyd kn)                          740067537\n"
     ]
    }
   ],
   "source": [
    "resrobot.access_id_from_location(\"danderydssjukhus\")"
   ]
  },
  {
   "cell_type": "code",
   "execution_count": 15,
   "metadata": {},
   "outputs": [
    {
     "name": "stdout",
     "output_type": "stream",
     "text": [
      "Name                                               extId\n",
      "Beryllgatan (Göteborg kn)                          740059121\n",
      "Charlottenberg, Källgatan (Eda kn)                 740057021\n",
      "Vallgatan Östansjö (Hallsberg kn)                  740049586\n",
      "Volleybollgatan (Lindesberg kn)                    740075308\n",
      "Smällgatan (Åtvidaberg kn)                         740056207\n"
     ]
    }
   ],
   "source": [
    "resrobot.access_id_from_location(\"beryllgatan\")"
   ]
  },
  {
   "cell_type": "code",
   "execution_count": 19,
   "metadata": {},
   "outputs": [
    {
     "data": {
      "text/plain": [
       "7"
      ]
     },
     "execution_count": 19,
     "metadata": {},
     "output_type": "execute_result"
    }
   ],
   "source": [
    "vplan_beryll= TripPlanner(740010232, 740059121)\n",
    "len(vplan_beryll.next_available_trips_today())"
   ]
  },
  {
   "cell_type": "code",
   "execution_count": 17,
   "metadata": {},
   "outputs": [],
   "source": [
    "import os\n",
    "import requests\n",
    "\n",
    "\n",
    "def changeovers(id: int):\n",
    "    directions = [\"hej\"]\n",
    "    count = 0\n",
    "    for departure in resrobot.timetable_departure(id):\n",
    "        \n",
    "        if \"Departure\" not in departure:\n",
    "            continue\n",
    "        print(departure[\"Departure\"][0][\"direction\"])\n",
    "        direction = departure[\"Departure\"][0][\"direction\"]\n",
    "        \n",
    "        if direction != directions[-1]:\n",
    "            directions.append(direction)\n",
    "        else:\n",
    "            count += 1\n",
    "    return count"
   ]
  },
  {
   "cell_type": "code",
   "execution_count": 18,
   "metadata": {},
   "outputs": [
    {
     "data": {
      "text/plain": [
       "[0, 0, 0, 0, 0, 0, 0, 0, 0, 0]"
      ]
     },
     "execution_count": 18,
     "metadata": {},
     "output_type": "execute_result"
    }
   ],
   "source": [
    "[changeovers(name) for name in vplan_beryll.next_available_trip()]"
   ]
  },
  {
   "cell_type": "code",
   "execution_count": null,
   "metadata": {},
   "outputs": [],
   "source": []
  }
 ],
 "metadata": {
  "kernelspec": {
   "display_name": ".venv",
   "language": "python",
   "name": "python3"
  },
  "language_info": {
   "codemirror_mode": {
    "name": "ipython",
    "version": 3
   },
   "file_extension": ".py",
   "mimetype": "text/x-python",
   "name": "python",
   "nbconvert_exporter": "python",
   "pygments_lexer": "ipython3",
   "version": "3.11.9"
  }
 },
 "nbformat": 4,
 "nbformat_minor": 2
}
