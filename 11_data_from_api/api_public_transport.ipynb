{
 "cells": [
  {
   "cell_type": "markdown",
   "metadata": {},
   "source": [
    "<div style=\"max-width:66ch;\">\n",
    "\n",
    "# Lecture notes - EDA on public transport API\n",
    "\n",
    "This is the lecture note for working with **APIs**. We will dive into doing get requests from trafiklab API to get public transport data.\n",
    "\n",
    "In this lecture we'll cover\n",
    "\n",
    "- trafiklab API\n",
    "- working with .env\n",
    "- working with json data\n",
    "\n",
    "<p class = \"alert alert-info\" role=\"alert\"><b>Note</b> that this lecture note gives a brief introduction to API and how to work with it. I encourage you to read further about APIs.\n",
    "\n",
    "</div>\n"
   ]
  },
  {
   "cell_type": "markdown",
   "metadata": {},
   "source": [
    "## Routeplanner\n",
    "\n",
    "- [ResRobot Route planner API](https://www.trafiklab.se/api/trafiklab-apis/resrobot-v21/route-planner/)\n",
    "\n",
    "- note that you need a .env file where you will store your API key for ResRobot\n",
    "- also make sure that your .gitignore includes .env so that it is not pushed to your github repo"
   ]
  },
  {
   "cell_type": "code",
   "execution_count": null,
   "metadata": {},
   "outputs": [
    {
     "ename": "",
     "evalue": "",
     "output_type": "error",
     "traceback": [
      "\u001b[1;31mRunning cells with '.venv (Python 3.10.0)' requires the ipykernel package.\n",
      "\u001b[1;31mRun the following command to install 'ipykernel' into the Python environment. \n",
      "\u001b[1;31mCommand: 'c:/Users/saram/Klassprojekt/GitHub/ResRobot/.venv/Scripts/python.exe -m pip install ipykernel -U --force-reinstall'"
     ]
    }
   ],
   "source": [
    "from dotenv import load_dotenv\n",
    "import os\n",
    "import requests\n",
    "\n",
    "load_dotenv()\n",
    "\n",
    "API_KEY = os.getenv(\"API_KEY\")\n",
    "\n",
    "def get_trips(origin_id=740000001, destination_id=740098001):\n",
    "    \"\"\"origing_id and destination_id can be found from Stop lookup API\"\"\"\n",
    "    url = f\"https://api.resrobot.se/v2.1/trip?format=json&originId={origin_id}&destId={destination_id}&passlist=true&showPassingPoints=true&accessId={API_KEY}\"\n",
    "\n",
    "    try:\n",
    "        response = requests.get(url)\n",
    "        response.raise_for_status()\n",
    "\n",
    "        return response.json()\n",
    "    except requests.exceptions.RequestException as err:\n",
    "        print(f\"Network or HTTP error: {err}\")\n",
    "\n",
    "\n",
    "result = get_trips()\n",
    "result.keys()"
   ]
  },
  {
   "cell_type": "code",
   "execution_count": null,
   "metadata": {},
   "outputs": [],
   "source": [
    "# check how many trips there are\n",
    "len(result[\"Trip\"])"
   ]
  },
  {
   "cell_type": "code",
   "execution_count": null,
   "metadata": {},
   "outputs": [],
   "source": [
    "# checks first trip keys\n",
    "example_trip = result[\"Trip\"][0]\n",
    "example_trip.keys()"
   ]
  },
  {
   "cell_type": "code",
   "execution_count": null,
   "metadata": {},
   "outputs": [],
   "source": [
    "example_trip[\"Origin\"]"
   ]
  },
  {
   "cell_type": "code",
   "execution_count": null,
   "metadata": {},
   "outputs": [],
   "source": [
    "example_trip[\"Destination\"]"
   ]
  },
  {
   "cell_type": "code",
   "execution_count": null,
   "metadata": {},
   "outputs": [],
   "source": [
    "example_trip[\"TripStatus\"]"
   ]
  },
  {
   "cell_type": "code",
   "execution_count": null,
   "metadata": {},
   "outputs": [],
   "source": [
    "example_trip[\"ServiceDays\"]"
   ]
  },
  {
   "cell_type": "code",
   "execution_count": null,
   "metadata": {},
   "outputs": [],
   "source": [
    "example_trip[\"LegList\"].keys()"
   ]
  },
  {
   "cell_type": "code",
   "execution_count": null,
   "metadata": {},
   "outputs": [],
   "source": [
    "len(example_trip[\"LegList\"][\"Leg\"])"
   ]
  },
  {
   "cell_type": "code",
   "execution_count": null,
   "metadata": {},
   "outputs": [],
   "source": [
    "example_trip[\"LegList\"][\"Leg\"][0].keys()"
   ]
  },
  {
   "cell_type": "code",
   "execution_count": null,
   "metadata": {},
   "outputs": [],
   "source": [
    "example_stops = example_trip[\"LegList\"][\"Leg\"][0][\"Stops\"][\"Stop\"]\n",
    "example_stops"
   ]
  },
  {
   "cell_type": "code",
   "execution_count": null,
   "metadata": {},
   "outputs": [],
   "source": [
    "[{stop.get(\"name\"): stop.get(\"arrTime\")} for stop in example_stops]"
   ]
  },
  {
   "cell_type": "markdown",
   "metadata": {},
   "source": [
    "## Stop lookup API to find id\n",
    "\n",
    "- [ResRobot Stop lookup API](https://www.trafiklab.se/api/trafiklab-apis/resrobot-v21/stop-lookup/)\n",
    "\n",
    "We will work our way to creating a function to find the id based on location\n",
    "\n",
    "\n"
   ]
  },
  {
   "cell_type": "code",
   "execution_count": null,
   "metadata": {},
   "outputs": [],
   "source": [
    "location = \"göteborg\"\n",
    "url = f\"https://api.resrobot.se/v2.1/location.name?input={location}&format=json&accessId={API_KEY}\"\n",
    "response = requests.get(url)\n",
    "result = response.json()\n",
    "result.keys()"
   ]
  },
  {
   "cell_type": "code",
   "execution_count": null,
   "metadata": {},
   "outputs": [],
   "source": [
    "stop_locations = result[\"stopLocationOrCoordLocation\"]\n",
    "len(stop_locations)"
   ]
  },
  {
   "cell_type": "code",
   "execution_count": null,
   "metadata": {},
   "outputs": [],
   "source": [
    "stop_locations[0]"
   ]
  },
  {
   "cell_type": "code",
   "execution_count": null,
   "metadata": {},
   "outputs": [],
   "source": [
    "stop_locations[0][\"StopLocation\"].keys()"
   ]
  },
  {
   "cell_type": "code",
   "execution_count": null,
   "metadata": {},
   "outputs": [],
   "source": [
    "stop_locations[0][\"StopLocation\"][\"name\"]"
   ]
  },
  {
   "cell_type": "code",
   "execution_count": null,
   "metadata": {},
   "outputs": [],
   "source": [
    "# :<50  -> left align in a 50-character wide field\n",
    "print(f\"{'Stop':<50} {'extId'}\")\n",
    "for stop_location in stop_locations:\n",
    "    stop = stop_location[\"StopLocation\"]\n",
    "    print(f\"{stop.get('name'):<50} {stop.get('extId')}\")"
   ]
  },
  {
   "cell_type": "code",
   "execution_count": null,
   "metadata": {},
   "outputs": [],
   "source": [
    "def access_id_from_location(location):\n",
    "    url = f\"https://api.resrobot.se/v2.1/location.name?input={location}&format=json&accessId={API_KEY}\"\n",
    "\n",
    "    try:\n",
    "        response = requests.get(url)\n",
    "        result = response.json()\n",
    "\n",
    "        print(f\"{'Name':<50} extId\")\n",
    "\n",
    "        for stop in result.get(\"stopLocationOrCoordLocation\"):\n",
    "            stop_data = next(iter(stop.values()))\n",
    "\n",
    "            # returns None if extId doesn't exist\n",
    "            if stop_data.get(\"extId\"):\n",
    "                print(f\"{stop_data['name']:<50} {stop_data['extId']}\")\n",
    "\n",
    "    except requests.exceptions.RequestException as err:\n",
    "        print(f\"Network or HTTP error: {err}\")\n",
    "\n",
    "access_id_from_location(\"malm\")"
   ]
  },
  {
   "cell_type": "markdown",
   "metadata": {},
   "source": [
    "## Time tables\n",
    "- [ResRobot Timetables](https://www.trafiklab.se/api/trafiklab-apis/resrobot-v21/timetables/)\n",
    "\n",
    "Here I use pandas to read the json data, I'll leave it to you to make it into a function and find out relevant information"
   ]
  },
  {
   "cell_type": "code",
   "execution_count": null,
   "metadata": {},
   "outputs": [],
   "source": [
    "# korsvägen\n",
    "stop_id=740015578\n",
    "url = f\"https://api.resrobot.se/v2.1/departureBoard?id={stop_id}&format=json&accessId={API_KEY}\"\n",
    "\n",
    "response = requests.get(url)\n",
    "results = response.json()\n",
    "results.keys()"
   ]
  },
  {
   "cell_type": "code",
   "execution_count": null,
   "metadata": {},
   "outputs": [],
   "source": [
    "import pandas as pd \n",
    "\n",
    "df_timetable = pd.DataFrame(results[\"Departure\"])\n",
    "df_timetable.head()\n"
   ]
  },
  {
   "cell_type": "code",
   "execution_count": null,
   "metadata": {},
   "outputs": [],
   "source": [
    "df_timetable_cleaned = df_timetable[[\"name\", \"stop\", \"lon\", \"lat\", \"direction\", \"date\", \"time\"]]\n",
    "df_timetable_cleaned"
   ]
  },
  {
   "cell_type": "code",
   "execution_count": null,
   "metadata": {},
   "outputs": [],
   "source": [
    "df_timetable_cleaned[\"name\"].value_counts()"
   ]
  },
  {
   "cell_type": "markdown",
   "metadata": {},
   "source": [
    "## more EDAs left for the reader ..."
   ]
  },
  {
   "cell_type": "markdown",
   "metadata": {},
   "source": [
    "<div style=\"background-color: #FFF; color: #212121; border-radius: 1px; width:22ch; box-shadow: rgba(0, 0, 0, 0.16) 0px 1px 4px; display: flex; justify-content: center; align-items: center;\">\n",
    "<div style=\"padding: 1.5em 0; width: 70%;\">\n",
    "    <h2 style=\"font-size: 1.2rem;\">Kokchun Giang</h2>\n",
    "    <a href=\"https://www.linkedin.com/in/kokchungiang/\" target=\"_blank\" style=\"display: flex; align-items: center; gap: .4em; color:#0A66C2;\">\n",
    "        <img src=\"https://content.linkedin.com/content/dam/me/business/en-us/amp/brand-site/v2/bg/LI-Bug.svg.original.svg\" width=\"20\"> \n",
    "        LinkedIn profile\n",
    "    </a>\n",
    "    <a href=\"https://github.com/kokchun/Portfolio-Kokchun-Giang\" target=\"_blank\" style=\"display: flex; align-items: center; gap: .4em; margin: 1em 0; color:#0A66C2;\">\n",
    "        <img src=\"https://github.githubassets.com/images/modules/logos_page/GitHub-Mark.png\" width=\"20\"> \n",
    "        Github portfolio\n",
    "    </a>\n",
    "    <span>AIgineer AB</span>\n",
    "<div>\n",
    "</div>\n"
   ]
  }
 ],
 "metadata": {
  "kernelspec": {
   "display_name": ".venv",
   "language": "python",
   "name": "python3"
  },
  "language_info": {
   "codemirror_mode": {
    "name": "ipython",
    "version": 3
   },
   "file_extension": ".py",
   "mimetype": "text/x-python",
   "name": "python",
   "nbconvert_exporter": "python",
   "pygments_lexer": "ipython3",
   "version": "3.10.0"
  }
 },
 "nbformat": 4,
 "nbformat_minor": 2
}
